{
  "nbformat": 4,
  "nbformat_minor": 0,
  "metadata": {
    "colab": {
      "name": "trabCompiladores.ipynb",
      "provenance": [],
      "collapsed_sections": []
    },
    "kernelspec": {
      "name": "python3",
      "display_name": "Python 3"
    }
  },
  "cells": [
    {
      "cell_type": "code",
      "metadata": {
        "id": "15qjZfoa5WYZ",
        "colab_type": "code",
        "outputId": "9682d394-7fe6-4933-efd7-0873c8704140",
        "colab": {
          "base_uri": "https://localhost:8080/",
          "height": 211
        }
      },
      "source": [
        "!pip install lark-parser --user\n",
        "\n"
      ],
      "execution_count": 0,
      "outputs": [
        {
          "output_type": "stream",
          "text": [
            "Collecting lark-parser\n",
            "\u001b[?25l  Downloading https://files.pythonhosted.org/packages/34/b8/aa7d6cf2d5efdd2fcd85cf39b33584fe12a0f7086ed451176ceb7fb510eb/lark-parser-0.7.8.tar.gz (276kB)\n",
            "\r\u001b[K     |█▏                              | 10kB 13.7MB/s eta 0:00:01\r\u001b[K     |██▍                             | 20kB 3.2MB/s eta 0:00:01\r\u001b[K     |███▋                            | 30kB 4.6MB/s eta 0:00:01\r\u001b[K     |████▊                           | 40kB 3.0MB/s eta 0:00:01\r\u001b[K     |██████                          | 51kB 3.6MB/s eta 0:00:01\r\u001b[K     |███████▏                        | 61kB 4.3MB/s eta 0:00:01\r\u001b[K     |████████▎                       | 71kB 4.9MB/s eta 0:00:01\r\u001b[K     |█████████▌                      | 81kB 5.6MB/s eta 0:00:01\r\u001b[K     |██████████▊                     | 92kB 6.2MB/s eta 0:00:01\r\u001b[K     |███████████▉                    | 102kB 4.8MB/s eta 0:00:01\r\u001b[K     |█████████████                   | 112kB 4.8MB/s eta 0:00:01\r\u001b[K     |██████████████▎                 | 122kB 4.8MB/s eta 0:00:01\r\u001b[K     |███████████████▍                | 133kB 4.8MB/s eta 0:00:01\r\u001b[K     |████████████████▋               | 143kB 4.8MB/s eta 0:00:01\r\u001b[K     |█████████████████▉              | 153kB 4.8MB/s eta 0:00:01\r\u001b[K     |███████████████████             | 163kB 4.8MB/s eta 0:00:01\r\u001b[K     |████████████████████▏           | 174kB 4.8MB/s eta 0:00:01\r\u001b[K     |█████████████████████▍          | 184kB 4.8MB/s eta 0:00:01\r\u001b[K     |██████████████████████▌         | 194kB 4.8MB/s eta 0:00:01\r\u001b[K     |███████████████████████▊        | 204kB 4.8MB/s eta 0:00:01\r\u001b[K     |█████████████████████████       | 215kB 4.8MB/s eta 0:00:01\r\u001b[K     |██████████████████████████      | 225kB 4.8MB/s eta 0:00:01\r\u001b[K     |███████████████████████████▎    | 235kB 4.8MB/s eta 0:00:01\r\u001b[K     |████████████████████████████▌   | 245kB 4.8MB/s eta 0:00:01\r\u001b[K     |█████████████████████████████▋  | 256kB 4.8MB/s eta 0:00:01\r\u001b[K     |██████████████████████████████▉ | 266kB 4.8MB/s eta 0:00:01\r\u001b[K     |████████████████████████████████| 276kB 4.8MB/s \n",
            "\u001b[?25hBuilding wheels for collected packages: lark-parser\n",
            "  Building wheel for lark-parser (setup.py) ... \u001b[?25l\u001b[?25hdone\n",
            "  Created wheel for lark-parser: filename=lark_parser-0.7.8-py2.py3-none-any.whl size=62514 sha256=1eb167175b473d6009ef90d1fc2d073b71180a5043cb009e793df9ca28488adc\n",
            "  Stored in directory: /root/.cache/pip/wheels/01/a2/30/ebae6ffa73cf3aa1c972a24d4c78388afd910f91e43bf554aa\n",
            "Successfully built lark-parser\n",
            "Installing collected packages: lark-parser\n",
            "Successfully installed lark-parser-0.7.8\n"
          ],
          "name": "stdout"
        }
      ]
    },
    {
      "cell_type": "code",
      "metadata": {
        "id": "Z8pIZBCi5gE7",
        "colab_type": "code",
        "outputId": "ef0d2d9a-cef9-4e03-c4ec-b9a15d08220a",
        "colab": {
          "base_uri": "https://localhost:8080/",
          "height": 376
        }
      },
      "source": [
        "from pprint import pprint\n",
        "from collections import ChainMap\n",
        "from lark import Lark, InlineTransformer, Tree, Token\n",
        "Tree._repr_html_ = lambda t: '<pre>%s</pre>' % t.pretty()\n",
        "\n"
      ],
      "execution_count": 0,
      "outputs": [
        {
          "output_type": "error",
          "ename": "ModuleNotFoundError",
          "evalue": "ignored",
          "traceback": [
            "\u001b[0;31m---------------------------------------------------------------------------\u001b[0m",
            "\u001b[0;31mModuleNotFoundError\u001b[0m                       Traceback (most recent call last)",
            "\u001b[0;32m<ipython-input-6-c6e90ccc1019>\u001b[0m in \u001b[0;36m<module>\u001b[0;34m()\u001b[0m\n\u001b[1;32m      1\u001b[0m \u001b[0;32mfrom\u001b[0m \u001b[0mpprint\u001b[0m \u001b[0;32mimport\u001b[0m \u001b[0mpprint\u001b[0m\u001b[0;34m\u001b[0m\u001b[0;34m\u001b[0m\u001b[0m\n\u001b[1;32m      2\u001b[0m \u001b[0;32mfrom\u001b[0m \u001b[0mcollections\u001b[0m \u001b[0;32mimport\u001b[0m \u001b[0mChainMap\u001b[0m\u001b[0;34m\u001b[0m\u001b[0;34m\u001b[0m\u001b[0m\n\u001b[0;32m----> 3\u001b[0;31m \u001b[0;32mfrom\u001b[0m \u001b[0mlark\u001b[0m \u001b[0;32mimport\u001b[0m \u001b[0mLark\u001b[0m\u001b[0;34m,\u001b[0m \u001b[0mInlineTransformer\u001b[0m\u001b[0;34m,\u001b[0m \u001b[0mTree\u001b[0m\u001b[0;34m,\u001b[0m \u001b[0mToken\u001b[0m\u001b[0;34m\u001b[0m\u001b[0;34m\u001b[0m\u001b[0m\n\u001b[0m\u001b[1;32m      4\u001b[0m \u001b[0mTree\u001b[0m\u001b[0;34m.\u001b[0m\u001b[0m_repr_html_\u001b[0m \u001b[0;34m=\u001b[0m \u001b[0;32mlambda\u001b[0m \u001b[0mt\u001b[0m\u001b[0;34m:\u001b[0m \u001b[0;34m'<pre>%s</pre>'\u001b[0m \u001b[0;34m%\u001b[0m \u001b[0mt\u001b[0m\u001b[0;34m.\u001b[0m\u001b[0mpretty\u001b[0m\u001b[0;34m(\u001b[0m\u001b[0;34m)\u001b[0m\u001b[0;34m\u001b[0m\u001b[0;34m\u001b[0m\u001b[0m\n\u001b[1;32m      5\u001b[0m \u001b[0;34m\u001b[0m\u001b[0m\n",
            "\u001b[0;31mModuleNotFoundError\u001b[0m: No module named 'lark'",
            "",
            "\u001b[0;31m---------------------------------------------------------------------------\u001b[0;32m\nNOTE: If your import is failing due to a missing package, you can\nmanually install dependencies using either !pip or !apt.\n\nTo view examples of installing some common dependencies, click the\n\"Open Examples\" button below.\n\u001b[0;31m---------------------------------------------------------------------------\u001b[0m\n"
          ]
        }
      ]
    },
    {
      "cell_type": "code",
      "metadata": {
        "id": "upQM_xOl5bT-",
        "colab_type": "code",
        "colab": {}
      },
      "source": [
        "c = Lark(r\"\"\"\n",
        "?start  : value\n",
        "\n",
        "?value  : exp+\n",
        "\n",
        "?exp    : if\";\"\n",
        "        | else\";\"\n",
        "        | assign\";\"\n",
        "        | boolop\";\"\n",
        "\n",
        "if     : \"if\"\"(\"boolop\")\"\"{\"/exp+/\"}\"\n",
        "\n",
        "else   : \"else\"\"(\"boolop\")\"\"{\"/exp+/\"}\" \n",
        "\n",
        "assign  : NAME\"=\"bool\n",
        "        | NAME\"=\"boolop\n",
        "        | NAME\"=\"NUMBER\n",
        "\n",
        "bool    : \"true\"   -> true\n",
        "        | \"false\"  -> false\n",
        "\n",
        "boolop  : boolval OPER boolval\n",
        "        \n",
        "\n",
        "\n",
        "boolval : NUMBER\n",
        "        | bool\n",
        "        | NAME\n",
        "\n",
        "\n",
        "// Terminais\n",
        "NUMBER  : /\\d+(\\.\\d+)?/ \n",
        "NAME    : /[A-Za-z]+/\n",
        "OPER    : /[><=][=]?/\n",
        "%ignore /\\s+/\n",
        "\n",
        "\n",
        "\"\"\")\n"
      ],
      "execution_count": 0,
      "outputs": []
    },
    {
      "cell_type": "code",
      "metadata": {
        "id": "I2uHcVaxCS-o",
        "colab_type": "code",
        "colab": {}
      },
      "source": [
        "replace = {}\n",
        "class BOOLTransformer(InlineTransformer):\n",
        "    numbers = float\n",
        "    \n",
        "    def assign(self, var , val):\n",
        "        replace[var] = val\n",
        "\n",
        "    def boolop(self, val1, op, val2):\n",
        "        return (val1, op, val2)\n",
        "\n",
        "    def true(self):\n",
        "        return True\n",
        "    \n",
        "    def false(self):\n",
        "        return False\n",
        "    \n"
      ],
      "execution_count": 0,
      "outputs": []
    },
    {
      "cell_type": "code",
      "metadata": {
        "id": "paQEiVMBD-0v",
        "colab_type": "code",
        "colab": {}
      },
      "source": [
        "def eval(expr):\n",
        "    if isinstance(expr, (float, int)):\n",
        "        return expr\n",
        "    \n",
        "    elif isinstance(expr, str):\n",
        "        return replace[expr]\n",
        "\n",
        "    head, *args = expr\n",
        "    if head == '>':\n",
        "        x, y = args\n",
        "        return eval(x) > eval(y)\n",
        "    elif head == '<':\n",
        "        x, y = args\n",
        "        return eval(x) < eval(y)\n",
        "    elif head == '<=':\n",
        "        x, y = args\n",
        "        return eval(x) <= eval(y)\n",
        "    elif head == '>=':\n",
        "        x, y = args\n",
        "        return eval(x) >= eval(y)\n",
        "    elif head == '==':\n",
        "        x, y = args\n",
        "        return eval(x) == eval(y)\n",
        "    else:\n",
        "        raise ValueError('argumento inválido : %r' % head)"
      ],
      "execution_count": 0,
      "outputs": []
    },
    {
      "cell_type": "code",
      "metadata": {
        "id": "JCjwyDYdEiZ5",
        "colab_type": "code",
        "colab": {}
      },
      "source": [
        "boool = c.parse('2>4;')\n",
        "boo = BOOLTransformer().transform(tree)\n",
        "value = eval(boo)\n"
      ],
      "execution_count": 0,
      "outputs": []
    }
  ]
}